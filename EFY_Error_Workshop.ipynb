{
 "cells": [
  {
   "cell_type": "markdown",
   "metadata": {},
   "source": [
    "TOPICS TO BE DISCUSSED\n",
    "\n",
    "Date: Dec 20, 2019\n",
    "\n",
    "GITHUB for Version Control\n",
    "\n",
    "- Numerical Receipes [Chapter 14/15], Zombeck? Bevington.\n",
    "- SVD, linear least-squares [EFY Jan 10]\n",
    "- Regularization\n",
    "- Error estimates from chi2 distribution\n",
    "- Poisson Distributions [low end, non-Gaussian]\n",
    "- Robust fitting [sigma clipping]\n",
    "- Correlation significance [regression on nonlinear data through linear functions]\n",
    "- Nonlinear fits\n",
    "- Function evaluations and forward modeling [Levenberg-Marquardt, conjugate gradient, amoeba method, simulated annealing]\n",
    "- Propagation of errors [Jacobians, variable set switching, Monte Carlo error estimates]\n",
    "- \"How do we tell if data has significance? Significance evaluation.\""
   ]
  },
  {
   "cell_type": "code",
   "execution_count": null,
   "metadata": {},
   "outputs": [],
   "source": []
  }
 ],
 "metadata": {
  "kernelspec": {
   "display_name": "Python 3",
   "language": "python",
   "name": "python3"
  },
  "language_info": {
   "codemirror_mode": {
    "name": "ipython",
    "version": 3
   },
   "file_extension": ".py",
   "mimetype": "text/x-python",
   "name": "python",
   "nbconvert_exporter": "python",
   "pygments_lexer": "ipython3",
   "version": "3.7.0"
  }
 },
 "nbformat": 4,
 "nbformat_minor": 2
}
